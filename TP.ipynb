{
 "metadata": {
  "language_info": {
   "codemirror_mode": {
    "name": "ipython",
    "version": 3
   },
   "file_extension": ".py",
   "mimetype": "text/x-python",
   "name": "python",
   "nbconvert_exporter": "python",
   "pygments_lexer": "ipython3",
   "version": "3.8.5"
  },
  "orig_nbformat": 2,
  "kernelspec": {
   "name": "python385jvsc74a57bd0fb18ef4589ed43e3dd83843151afb7739cc03e992c7662cdff37609b521045e4",
   "display_name": "Python 3.8.5 64-bit ('base': conda)"
  }
 },
 "nbformat": 4,
 "nbformat_minor": 2,
 "cells": [
  {
   "cell_type": "code",
   "execution_count": 352,
   "metadata": {},
   "outputs": [],
   "source": [
    "# Python program to convert\n",
    "# JSON file to CSV\n",
    "\n",
    "import pandas as pd\n",
    "import json\n",
    "import csv\n",
    "\n",
    "\n",
    "# Opening JSON file and loading the data\n",
    "# into the variable data\n",
    "with open('mpd.slice.0-999.json') as json_file:\n",
    "\tdata = json.load(json_file)\n",
    "\n",
    "df = pd.json_normalize(data['playlists'])\n",
    "\n",
    "df.to_csv(\"playlist.csv\")\n",
    "\n",
    "\n",
    "\n"
   ]
  },
  {
   "cell_type": "code",
   "execution_count": 353,
   "metadata": {},
   "outputs": [
    {
     "output_type": "execute_result",
     "data": {
      "text/plain": [
       "                 name collaborative  pid  modified_at  num_tracks  num_albums  \\\n",
       "0          Throwbacks         false    0   1493424000          52          47   \n",
       "1    Awesome Playlist         false    1   1506556800          39          23   \n",
       "2             korean          false    2   1505692800          64          51   \n",
       "3                 mat         false    3   1501027200         126         107   \n",
       "4                 90s         false    4   1401667200          17          16   \n",
       "..                ...           ...  ...          ...         ...         ...   \n",
       "995               old         false  995   1507852800          41          40   \n",
       "996              Daze         false  996   1479254400          17          17   \n",
       "997               rap         false  997   1410307200         119          98   \n",
       "998           Country         false  998   1507939200         108          75   \n",
       "999   thinking of you         false  999   1507766400          44          43   \n",
       "\n",
       "     num_followers                                             tracks  \\\n",
       "0                1  [{'pos': 0, 'artist_name': 'Missy Elliott', 't...   \n",
       "1                1  [{'pos': 0, 'artist_name': 'Survivor', 'track_...   \n",
       "2                1  [{'pos': 0, 'artist_name': 'Hoody', 'track_uri...   \n",
       "3                1  [{'pos': 0, 'artist_name': 'Camille Saint-Saën...   \n",
       "4                2  [{'pos': 0, 'artist_name': 'The Smashing Pumpk...   \n",
       "..             ...                                                ...   \n",
       "995              1  [{'pos': 0, 'artist_name': 'Katrina', 'track_u...   \n",
       "996              1  [{'pos': 0, 'artist_name': 'PARTYNEXTDOOR', 't...   \n",
       "997              1  [{'pos': 0, 'artist_name': 'LoveRance', 'track...   \n",
       "998              1  [{'pos': 0, 'artist_name': 'Hunter Hayes', 'tr...   \n",
       "999              1  [{'pos': 0, 'artist_name': 'Pvris', 'track_uri...   \n",
       "\n",
       "     num_edits  duration_ms  num_artists description  \n",
       "0            6     11532414           37         NaN  \n",
       "1            5     11656470           21         NaN  \n",
       "2           18     14039958           31         NaN  \n",
       "3            4     28926058           86         NaN  \n",
       "4            7      4335282           16         NaN  \n",
       "..         ...          ...          ...         ...  \n",
       "995          8      9917901           36         NaN  \n",
       "996         13      3699248           15         NaN  \n",
       "997         63     27538723           82         NaN  \n",
       "998         37     24950143           40         NaN  \n",
       "999         34      9065801           37         NaN  \n",
       "\n",
       "[1000 rows x 12 columns]"
      ],
      "text/html": "<div>\n<style scoped>\n    .dataframe tbody tr th:only-of-type {\n        vertical-align: middle;\n    }\n\n    .dataframe tbody tr th {\n        vertical-align: top;\n    }\n\n    .dataframe thead th {\n        text-align: right;\n    }\n</style>\n<table border=\"1\" class=\"dataframe\">\n  <thead>\n    <tr style=\"text-align: right;\">\n      <th></th>\n      <th>name</th>\n      <th>collaborative</th>\n      <th>pid</th>\n      <th>modified_at</th>\n      <th>num_tracks</th>\n      <th>num_albums</th>\n      <th>num_followers</th>\n      <th>tracks</th>\n      <th>num_edits</th>\n      <th>duration_ms</th>\n      <th>num_artists</th>\n      <th>description</th>\n    </tr>\n  </thead>\n  <tbody>\n    <tr>\n      <th>0</th>\n      <td>Throwbacks</td>\n      <td>false</td>\n      <td>0</td>\n      <td>1493424000</td>\n      <td>52</td>\n      <td>47</td>\n      <td>1</td>\n      <td>[{'pos': 0, 'artist_name': 'Missy Elliott', 't...</td>\n      <td>6</td>\n      <td>11532414</td>\n      <td>37</td>\n      <td>NaN</td>\n    </tr>\n    <tr>\n      <th>1</th>\n      <td>Awesome Playlist</td>\n      <td>false</td>\n      <td>1</td>\n      <td>1506556800</td>\n      <td>39</td>\n      <td>23</td>\n      <td>1</td>\n      <td>[{'pos': 0, 'artist_name': 'Survivor', 'track_...</td>\n      <td>5</td>\n      <td>11656470</td>\n      <td>21</td>\n      <td>NaN</td>\n    </tr>\n    <tr>\n      <th>2</th>\n      <td>korean</td>\n      <td>false</td>\n      <td>2</td>\n      <td>1505692800</td>\n      <td>64</td>\n      <td>51</td>\n      <td>1</td>\n      <td>[{'pos': 0, 'artist_name': 'Hoody', 'track_uri...</td>\n      <td>18</td>\n      <td>14039958</td>\n      <td>31</td>\n      <td>NaN</td>\n    </tr>\n    <tr>\n      <th>3</th>\n      <td>mat</td>\n      <td>false</td>\n      <td>3</td>\n      <td>1501027200</td>\n      <td>126</td>\n      <td>107</td>\n      <td>1</td>\n      <td>[{'pos': 0, 'artist_name': 'Camille Saint-Saën...</td>\n      <td>4</td>\n      <td>28926058</td>\n      <td>86</td>\n      <td>NaN</td>\n    </tr>\n    <tr>\n      <th>4</th>\n      <td>90s</td>\n      <td>false</td>\n      <td>4</td>\n      <td>1401667200</td>\n      <td>17</td>\n      <td>16</td>\n      <td>2</td>\n      <td>[{'pos': 0, 'artist_name': 'The Smashing Pumpk...</td>\n      <td>7</td>\n      <td>4335282</td>\n      <td>16</td>\n      <td>NaN</td>\n    </tr>\n    <tr>\n      <th>...</th>\n      <td>...</td>\n      <td>...</td>\n      <td>...</td>\n      <td>...</td>\n      <td>...</td>\n      <td>...</td>\n      <td>...</td>\n      <td>...</td>\n      <td>...</td>\n      <td>...</td>\n      <td>...</td>\n      <td>...</td>\n    </tr>\n    <tr>\n      <th>995</th>\n      <td>old</td>\n      <td>false</td>\n      <td>995</td>\n      <td>1507852800</td>\n      <td>41</td>\n      <td>40</td>\n      <td>1</td>\n      <td>[{'pos': 0, 'artist_name': 'Katrina', 'track_u...</td>\n      <td>8</td>\n      <td>9917901</td>\n      <td>36</td>\n      <td>NaN</td>\n    </tr>\n    <tr>\n      <th>996</th>\n      <td>Daze</td>\n      <td>false</td>\n      <td>996</td>\n      <td>1479254400</td>\n      <td>17</td>\n      <td>17</td>\n      <td>1</td>\n      <td>[{'pos': 0, 'artist_name': 'PARTYNEXTDOOR', 't...</td>\n      <td>13</td>\n      <td>3699248</td>\n      <td>15</td>\n      <td>NaN</td>\n    </tr>\n    <tr>\n      <th>997</th>\n      <td>rap</td>\n      <td>false</td>\n      <td>997</td>\n      <td>1410307200</td>\n      <td>119</td>\n      <td>98</td>\n      <td>1</td>\n      <td>[{'pos': 0, 'artist_name': 'LoveRance', 'track...</td>\n      <td>63</td>\n      <td>27538723</td>\n      <td>82</td>\n      <td>NaN</td>\n    </tr>\n    <tr>\n      <th>998</th>\n      <td>Country</td>\n      <td>false</td>\n      <td>998</td>\n      <td>1507939200</td>\n      <td>108</td>\n      <td>75</td>\n      <td>1</td>\n      <td>[{'pos': 0, 'artist_name': 'Hunter Hayes', 'tr...</td>\n      <td>37</td>\n      <td>24950143</td>\n      <td>40</td>\n      <td>NaN</td>\n    </tr>\n    <tr>\n      <th>999</th>\n      <td>thinking of you</td>\n      <td>false</td>\n      <td>999</td>\n      <td>1507766400</td>\n      <td>44</td>\n      <td>43</td>\n      <td>1</td>\n      <td>[{'pos': 0, 'artist_name': 'Pvris', 'track_uri...</td>\n      <td>34</td>\n      <td>9065801</td>\n      <td>37</td>\n      <td>NaN</td>\n    </tr>\n  </tbody>\n</table>\n<p>1000 rows × 12 columns</p>\n</div>"
     },
     "metadata": {},
     "execution_count": 353
    }
   ],
   "source": [
    "df"
   ]
  },
  {
   "cell_type": "code",
   "execution_count": 355,
   "metadata": {},
   "outputs": [],
   "source": [
    "f=0\n",
    "for i in range(0,len(df[\"tracks\"])):\n",
    "    for j in range(0,len(df[\"tracks\"][i])):\n",
    "        x=df[\"tracks\"][i][j]\n",
    "        x[\"pid\"]=f\n",
    "\n",
    "    f+=1"
   ]
  },
  {
   "cell_type": "code",
   "execution_count": 427,
   "metadata": {
    "tags": []
   },
   "outputs": [],
   "source": [
    "# Python program to convert\n",
    "# JSON file to CSV\n",
    "\n",
    "\n",
    "import json\n",
    "import csv\n",
    "\n",
    "\n",
    "# now we will open a file for writing\n",
    "morceaux_file = open('morceaux.csv', 'w')\n",
    "\n",
    "# create the csv writer object\n",
    "csv_writer = csv.writer(morceaux_file)\n",
    "\n",
    "# Counter variable used for writing\n",
    "# headers to the CSV file\n",
    "count = 0\n",
    "for i in range(0,len(df[\"tracks\"])):\n",
    "    for j in range(0,len(df[\"tracks\"][i])):\n",
    "            x=df[\"tracks\"][i][j]\n",
    "            # Writing headers of CSV file\n",
    "            if count==0:  \n",
    "                header = x.keys()\n",
    "                csv_writer.writerow(header)\n",
    "                count+=1\n",
    "            csv_writer.writerow(x.values())\n",
    "            \n",
    "\n",
    "        # Writing data of CSV file\n",
    "            \n",
    "\n",
    "morceaux_file.close()"
   ]
  },
  {
   "cell_type": "code",
   "execution_count": 389,
   "metadata": {},
   "outputs": [],
   "source": [
    "import pandas as pd"
   ]
  },
  {
   "cell_type": "code",
   "execution_count": 428,
   "metadata": {},
   "outputs": [
    {
     "output_type": "execute_result",
     "data": {
      "text/plain": [
       "       pos        artist_name                             track_uri  \\\n",
       "0        0      Missy Elliott  spotify:track:0UaMYEvWZi0ZqiDOoHU3YI   \n",
       "1        1     Britney Spears  spotify:track:6I9VzXrHxO9rA9A5euc8Ak   \n",
       "2        2            Beyoncé  spotify:track:0WqIKmW4BTrj3eJFmnCKMv   \n",
       "3        3  Justin Timberlake  spotify:track:1AWQoqb9bSvzTjaLralEkT   \n",
       "4        4             Shaggy  spotify:track:1lzr43nnXAijIGYnCT8M8H   \n",
       "...    ...                ...                                   ...   \n",
       "67499   40          Big Words  spotify:track:0P1oO2gREMYUCoOkzYAyFu   \n",
       "67500   41       Allan Rayman  spotify:track:2oM4BuruDnEvk59IvIXCwn   \n",
       "67501   42          Jon Jason  spotify:track:4Ri5TTUgjM96tbQZd5Ua7V   \n",
       "67502   43           Grizfolk  spotify:track:5RVuBrXVLptAEbGJdSDzL5   \n",
       "67503    0                  0                                     0   \n",
       "\n",
       "                                  artist_uri  \\\n",
       "0      spotify:artist:2wIVse2owClT7go1WT98tk   \n",
       "1      spotify:artist:26dSoYclwsYLMAKD3tpOr4   \n",
       "2      spotify:artist:6vWDO969PvNqNYHIOW5v0m   \n",
       "3      spotify:artist:31TPClRtHm23RisEBtV3X7   \n",
       "4      spotify:artist:5EvFsr3kj42KNv97ZEnqij   \n",
       "...                                      ...   \n",
       "67499  spotify:artist:0sHN89qak07mnug3LVVjzP   \n",
       "67500  spotify:artist:6Yv6OBXD6ZQakEljaGaDAk   \n",
       "67501  spotify:artist:77bNdkKYBBmc30CisCA6tE   \n",
       "67502  spotify:artist:6Xa4nbrSTfbioA4lLShbjh   \n",
       "67503                                      0   \n",
       "\n",
       "                                         track_name  \\\n",
       "0        Lose Control (feat. Ciara & Fat Man Scoop)   \n",
       "1                                             Toxic   \n",
       "2                                     Crazy In Love   \n",
       "3                                    Rock Your Body   \n",
       "4                                      It Wasn't Me   \n",
       "...                                             ...   \n",
       "67499                                    The Answer   \n",
       "67500                                         25.22   \n",
       "67501                                  Good Feeling   \n",
       "67502  Cosmic Angel - Acoustic From Capitol Studios   \n",
       "67503                                             0   \n",
       "\n",
       "                                  album_uri  duration_ms  \\\n",
       "0      spotify:album:6vV5UrXcfyQD1wu4Qo2I9K       226863   \n",
       "1      spotify:album:0z7pVBGOD7HCIB7S8eLkLI       198800   \n",
       "2      spotify:album:25hVFAxTlDvXbx2X2QkUkE       235933   \n",
       "3      spotify:album:6QPkyl04rXwTGlGlcYaRoW       267266   \n",
       "4      spotify:album:6NmFmPX56pcLBOFMhIiKvF       227600   \n",
       "...                                     ...          ...   \n",
       "67499  spotify:album:5jrsRHRAmetu5e7RRBoxj7       263679   \n",
       "67500  spotify:album:3CbNgBzI7r9o0F6VjH9sTY       189213   \n",
       "67501  spotify:album:2dZ7oVNQBeLlpoUYfbEsJP       194720   \n",
       "67502  spotify:album:7D6Y19tjm4DQNch39FeWpO       257194   \n",
       "67503                                     0            0   \n",
       "\n",
       "                                         album_name  pid  \n",
       "0                                      The Cookbook    0  \n",
       "1                                       In The Zone    0  \n",
       "2      Dangerously In Love (Alben für die Ewigkeit)    0  \n",
       "3                                         Justified    0  \n",
       "4                                          Hot Shot    0  \n",
       "...                                             ...  ...  \n",
       "67499            Hollywood, a Beautiful Coincidence  999  \n",
       "67500                                  Roadhouse 01  999  \n",
       "67501                                  Good Feeling  999  \n",
       "67502                                  Cosmic Angel  999  \n",
       "67503                                             0    0  \n",
       "\n",
       "[67504 rows x 9 columns]"
      ],
      "text/html": "<div>\n<style scoped>\n    .dataframe tbody tr th:only-of-type {\n        vertical-align: middle;\n    }\n\n    .dataframe tbody tr th {\n        vertical-align: top;\n    }\n\n    .dataframe thead th {\n        text-align: right;\n    }\n</style>\n<table border=\"1\" class=\"dataframe\">\n  <thead>\n    <tr style=\"text-align: right;\">\n      <th></th>\n      <th>pos</th>\n      <th>artist_name</th>\n      <th>track_uri</th>\n      <th>artist_uri</th>\n      <th>track_name</th>\n      <th>album_uri</th>\n      <th>duration_ms</th>\n      <th>album_name</th>\n      <th>pid</th>\n    </tr>\n  </thead>\n  <tbody>\n    <tr>\n      <th>0</th>\n      <td>0</td>\n      <td>Missy Elliott</td>\n      <td>spotify:track:0UaMYEvWZi0ZqiDOoHU3YI</td>\n      <td>spotify:artist:2wIVse2owClT7go1WT98tk</td>\n      <td>Lose Control (feat. Ciara &amp; Fat Man Scoop)</td>\n      <td>spotify:album:6vV5UrXcfyQD1wu4Qo2I9K</td>\n      <td>226863</td>\n      <td>The Cookbook</td>\n      <td>0</td>\n    </tr>\n    <tr>\n      <th>1</th>\n      <td>1</td>\n      <td>Britney Spears</td>\n      <td>spotify:track:6I9VzXrHxO9rA9A5euc8Ak</td>\n      <td>spotify:artist:26dSoYclwsYLMAKD3tpOr4</td>\n      <td>Toxic</td>\n      <td>spotify:album:0z7pVBGOD7HCIB7S8eLkLI</td>\n      <td>198800</td>\n      <td>In The Zone</td>\n      <td>0</td>\n    </tr>\n    <tr>\n      <th>2</th>\n      <td>2</td>\n      <td>Beyoncé</td>\n      <td>spotify:track:0WqIKmW4BTrj3eJFmnCKMv</td>\n      <td>spotify:artist:6vWDO969PvNqNYHIOW5v0m</td>\n      <td>Crazy In Love</td>\n      <td>spotify:album:25hVFAxTlDvXbx2X2QkUkE</td>\n      <td>235933</td>\n      <td>Dangerously In Love (Alben für die Ewigkeit)</td>\n      <td>0</td>\n    </tr>\n    <tr>\n      <th>3</th>\n      <td>3</td>\n      <td>Justin Timberlake</td>\n      <td>spotify:track:1AWQoqb9bSvzTjaLralEkT</td>\n      <td>spotify:artist:31TPClRtHm23RisEBtV3X7</td>\n      <td>Rock Your Body</td>\n      <td>spotify:album:6QPkyl04rXwTGlGlcYaRoW</td>\n      <td>267266</td>\n      <td>Justified</td>\n      <td>0</td>\n    </tr>\n    <tr>\n      <th>4</th>\n      <td>4</td>\n      <td>Shaggy</td>\n      <td>spotify:track:1lzr43nnXAijIGYnCT8M8H</td>\n      <td>spotify:artist:5EvFsr3kj42KNv97ZEnqij</td>\n      <td>It Wasn't Me</td>\n      <td>spotify:album:6NmFmPX56pcLBOFMhIiKvF</td>\n      <td>227600</td>\n      <td>Hot Shot</td>\n      <td>0</td>\n    </tr>\n    <tr>\n      <th>...</th>\n      <td>...</td>\n      <td>...</td>\n      <td>...</td>\n      <td>...</td>\n      <td>...</td>\n      <td>...</td>\n      <td>...</td>\n      <td>...</td>\n      <td>...</td>\n    </tr>\n    <tr>\n      <th>67499</th>\n      <td>40</td>\n      <td>Big Words</td>\n      <td>spotify:track:0P1oO2gREMYUCoOkzYAyFu</td>\n      <td>spotify:artist:0sHN89qak07mnug3LVVjzP</td>\n      <td>The Answer</td>\n      <td>spotify:album:5jrsRHRAmetu5e7RRBoxj7</td>\n      <td>263679</td>\n      <td>Hollywood, a Beautiful Coincidence</td>\n      <td>999</td>\n    </tr>\n    <tr>\n      <th>67500</th>\n      <td>41</td>\n      <td>Allan Rayman</td>\n      <td>spotify:track:2oM4BuruDnEvk59IvIXCwn</td>\n      <td>spotify:artist:6Yv6OBXD6ZQakEljaGaDAk</td>\n      <td>25.22</td>\n      <td>spotify:album:3CbNgBzI7r9o0F6VjH9sTY</td>\n      <td>189213</td>\n      <td>Roadhouse 01</td>\n      <td>999</td>\n    </tr>\n    <tr>\n      <th>67501</th>\n      <td>42</td>\n      <td>Jon Jason</td>\n      <td>spotify:track:4Ri5TTUgjM96tbQZd5Ua7V</td>\n      <td>spotify:artist:77bNdkKYBBmc30CisCA6tE</td>\n      <td>Good Feeling</td>\n      <td>spotify:album:2dZ7oVNQBeLlpoUYfbEsJP</td>\n      <td>194720</td>\n      <td>Good Feeling</td>\n      <td>999</td>\n    </tr>\n    <tr>\n      <th>67502</th>\n      <td>43</td>\n      <td>Grizfolk</td>\n      <td>spotify:track:5RVuBrXVLptAEbGJdSDzL5</td>\n      <td>spotify:artist:6Xa4nbrSTfbioA4lLShbjh</td>\n      <td>Cosmic Angel - Acoustic From Capitol Studios</td>\n      <td>spotify:album:7D6Y19tjm4DQNch39FeWpO</td>\n      <td>257194</td>\n      <td>Cosmic Angel</td>\n      <td>999</td>\n    </tr>\n    <tr>\n      <th>67503</th>\n      <td>0</td>\n      <td>0</td>\n      <td>0</td>\n      <td>0</td>\n      <td>0</td>\n      <td>0</td>\n      <td>0</td>\n      <td>0</td>\n      <td>0</td>\n    </tr>\n  </tbody>\n</table>\n<p>67504 rows × 9 columns</p>\n</div>"
     },
     "metadata": {},
     "execution_count": 428
    }
   ],
   "source": [
    "df_mor = pd.read_csv(\"morceaux.csv\")\n",
    "df_mor.loc[67503]=[0,\"0\",\"0\",\"0\",\"0\",\"0\",0,\"0\",0]\n",
    "df_mor"
   ]
  },
  {
   "source": [
    "# **Création du csv Chain**"
   ],
   "cell_type": "markdown",
   "metadata": {}
  },
  {
   "cell_type": "code",
   "execution_count": 359,
   "metadata": {},
   "outputs": [],
   "source": [
    "df_chain=pd.DataFrame()"
   ]
  },
  {
   "cell_type": "code",
   "execution_count": 360,
   "metadata": {},
   "outputs": [],
   "source": [
    "df_chain[\"tracks\"]=df_mor[\"track_uri\"]"
   ]
  },
  {
   "cell_type": "code",
   "execution_count": 361,
   "metadata": {},
   "outputs": [],
   "source": [
    "df_chain[\"ID\"]=\"\""
   ]
  },
  {
   "cell_type": "code",
   "execution_count": 362,
   "metadata": {},
   "outputs": [],
   "source": [
    "from collections import defaultdict\n",
    "omg = df_chain[\"tracks\"]\n",
    "d = defaultdict(lambda: len(d))  # late binding allows d not to be defined yet\n",
    "omg_id = [d[x] for x in omg]\n",
    "df_chain[\"ID\"]=omg_id\n"
   ]
  },
  {
   "cell_type": "code",
   "execution_count": 363,
   "metadata": {},
   "outputs": [],
   "source": [
    "df_chain[\":START_ID(Track)\"]=\"\"\n",
    "df_chain[\":END_ID(Track)\"]=\"\""
   ]
  },
  {
   "cell_type": "code",
   "execution_count": 365,
   "metadata": {},
   "outputs": [
    {
     "output_type": "stream",
     "name": "stderr",
     "text": [
      "<ipython-input-365-b795a145956d>:9: SettingWithCopyWarning: \n",
      "A value is trying to be set on a copy of a slice from a DataFrame\n",
      "\n",
      "See the caveats in the documentation: https://pandas.pydata.org/pandas-docs/stable/user_guide/indexing.html#returning-a-view-versus-a-copy\n",
      "  df_chain[':START_ID(Track)'][i]=df_chain[\"ID\"][i]\n",
      "<ipython-input-365-b795a145956d>:10: SettingWithCopyWarning: \n",
      "A value is trying to be set on a copy of a slice from a DataFrame\n",
      "\n",
      "See the caveats in the documentation: https://pandas.pydata.org/pandas-docs/stable/user_guide/indexing.html#returning-a-view-versus-a-copy\n",
      "  df_chain[':END_ID(Track)'][i]=df_chain[\"ID\"][i+1]\n",
      "<ipython-input-365-b795a145956d>:6: SettingWithCopyWarning: \n",
      "A value is trying to be set on a copy of a slice from a DataFrame\n",
      "\n",
      "See the caveats in the documentation: https://pandas.pydata.org/pandas-docs/stable/user_guide/indexing.html#returning-a-view-versus-a-copy\n",
      "  df_chain[':START_ID(Track)'][i]=df_chain[\"ID\"][i]\n",
      "<ipython-input-365-b795a145956d>:7: SettingWithCopyWarning: \n",
      "A value is trying to be set on a copy of a slice from a DataFrame\n",
      "\n",
      "See the caveats in the documentation: https://pandas.pydata.org/pandas-docs/stable/user_guide/indexing.html#returning-a-view-versus-a-copy\n",
      "  df_chain[':END_ID(Track)'][i]=df_chain[\"ID\"][67503]\n",
      "<ipython-input-365-b795a145956d>:3: SettingWithCopyWarning: \n",
      "A value is trying to be set on a copy of a slice from a DataFrame\n",
      "\n",
      "See the caveats in the documentation: https://pandas.pydata.org/pandas-docs/stable/user_guide/indexing.html#returning-a-view-versus-a-copy\n",
      "  df_chain[':START_ID(Track)'][i]=df_chain[\"ID\"][i]\n",
      "<ipython-input-365-b795a145956d>:4: SettingWithCopyWarning: \n",
      "A value is trying to be set on a copy of a slice from a DataFrame\n",
      "\n",
      "See the caveats in the documentation: https://pandas.pydata.org/pandas-docs/stable/user_guide/indexing.html#returning-a-view-versus-a-copy\n",
      "  df_chain[':END_ID(Track)'][i]=df_chain[\"ID\"][67503]\n"
     ]
    }
   ],
   "source": [
    "\n",
    "for i in range(0,len(df_chain[\"tracks\"])-1):\n",
    "    if i==67502:\n",
    "        df_chain[':START_ID(Track)'][i]=df_chain[\"ID\"][i]\n",
    "        df_chain[':END_ID(Track)'][i]=df_chain[\"ID\"][67503]\n",
    "    elif df_mor[\"pos\"][i]>df_mor[\"pos\"][i+1]:\n",
    "        df_chain[':START_ID(Track)'][i]=df_chain[\"ID\"][i]\n",
    "        df_chain[':END_ID(Track)'][i]=df_chain[\"ID\"][67503]\n",
    "    else:\n",
    "        df_chain[':START_ID(Track)'][i]=df_chain[\"ID\"][i]\n",
    "        df_chain[':END_ID(Track)'][i]=df_chain[\"ID\"][i+1]"
   ]
  },
  {
   "cell_type": "code",
   "execution_count": 366,
   "metadata": {},
   "outputs": [],
   "source": [
    "df_chain=df_chain.drop(columns=\"tracks\")"
   ]
  },
  {
   "cell_type": "code",
   "execution_count": 368,
   "metadata": {},
   "outputs": [],
   "source": [
    "df_chain=df_chain.drop(index=67503)"
   ]
  },
  {
   "cell_type": "code",
   "execution_count": 369,
   "metadata": {},
   "outputs": [],
   "source": [
    "df_chain=df_chain.drop(columns=\"ID\")"
   ]
  },
  {
   "cell_type": "code",
   "execution_count": 370,
   "metadata": {},
   "outputs": [],
   "source": [
    "df_chain.to_csv('enchainement.csv',index=False)"
   ]
  },
  {
   "source": [
    "# **Modélisation de morceaux**"
   ],
   "cell_type": "markdown",
   "metadata": {}
  },
  {
   "cell_type": "code",
   "execution_count": 429,
   "metadata": {},
   "outputs": [],
   "source": [
    "df_mor[\"duration_ms\"]=df_mor[\"duration_ms\"].astype(int)"
   ]
  },
  {
   "cell_type": "code",
   "execution_count": 430,
   "metadata": {},
   "outputs": [],
   "source": [
    "df_mor=df_mor.drop(columns=\"pos\")"
   ]
  },
  {
   "cell_type": "code",
   "execution_count": 431,
   "metadata": {},
   "outputs": [],
   "source": [
    "df_mor=df_mor.drop(columns=\"album_uri\")"
   ]
  },
  {
   "cell_type": "code",
   "execution_count": 432,
   "metadata": {},
   "outputs": [],
   "source": [
    "df_mor=df_mor.drop(columns=\"artist_uri\")"
   ]
  },
  {
   "cell_type": "code",
   "execution_count": 433,
   "metadata": {},
   "outputs": [],
   "source": [
    "df_mor=df_mor.drop(columns=\"album_name\")"
   ]
  },
  {
   "cell_type": "code",
   "execution_count": 434,
   "metadata": {},
   "outputs": [],
   "source": [
    "df_mor[\"ID\"]=\"\""
   ]
  },
  {
   "cell_type": "code",
   "execution_count": 435,
   "metadata": {},
   "outputs": [],
   "source": [
    "from collections import defaultdict\n",
    "omg = df_mor[\"track_uri\"]\n",
    "d = defaultdict(lambda: len(d))  # late binding allows d not to be defined yet\n",
    "omg_id = [d[x] for x in omg]\n",
    "df_mor[\"ID\"]=omg_id"
   ]
  },
  {
   "cell_type": "code",
   "execution_count": 436,
   "metadata": {},
   "outputs": [],
   "source": [
    "df_mor=df_mor.drop(columns=\"track_uri\")"
   ]
  },
  {
   "cell_type": "code",
   "execution_count": 438,
   "metadata": {},
   "outputs": [],
   "source": [
    "df_mor.drop_duplicates(subset='ID',keep=\"first\",inplace=True)"
   ]
  },
  {
   "cell_type": "code",
   "execution_count": 439,
   "metadata": {},
   "outputs": [],
   "source": [
    "df_mor[\"trackId:ID(Track)\"]=df_mor[\"ID\"]"
   ]
  },
  {
   "cell_type": "code",
   "execution_count": 440,
   "metadata": {},
   "outputs": [],
   "source": [
    "df_mor=df_mor.reset_index(drop=True)"
   ]
  },
  {
   "cell_type": "code",
   "execution_count": 441,
   "metadata": {},
   "outputs": [],
   "source": [
    "df_mor=df_mor.drop(columns=\"ID\")"
   ]
  },
  {
   "cell_type": "code",
   "execution_count": 443,
   "metadata": {},
   "outputs": [],
   "source": [
    "df_mor=df_mor.reindex(columns=[\"trackId:ID(Track)\",\"track_name\",\"artist_name\",\"pid\",\"duration_ms\"])"
   ]
  },
  {
   "cell_type": "code",
   "execution_count": 444,
   "metadata": {},
   "outputs": [],
   "source": [
    "df_mor.to_csv('morceaux.csv',index=False)"
   ]
  },
  {
   "cell_type": "code",
   "execution_count": 489,
   "metadata": {},
   "outputs": [
    {
     "output_type": "execute_result",
     "data": {
      "text/plain": [
       "       trackId:ID(Track)                                    track_name  \\\n",
       "0                      0    Lose Control (feat. Ciara & Fat Man Scoop)   \n",
       "1                      1                                         Toxic   \n",
       "2                      2                                 Crazy In Love   \n",
       "3                      3                                Rock Your Body   \n",
       "4                      4                                  It Wasn't Me   \n",
       "...                  ...                                           ...   \n",
       "34439              34439                                    The Answer   \n",
       "34440              34440                                         25.22   \n",
       "34441              34441                                  Good Feeling   \n",
       "34442              34442  Cosmic Angel - Acoustic From Capitol Studios   \n",
       "34443              34443                                             0   \n",
       "\n",
       "             artist_name  pid  duration_ms  \n",
       "0          Missy Elliott    0       226863  \n",
       "1         Britney Spears    0       198800  \n",
       "2                Beyoncé    0       235933  \n",
       "3      Justin Timberlake    0       267266  \n",
       "4                 Shaggy    0       227600  \n",
       "...                  ...  ...          ...  \n",
       "34439          Big Words  999       263679  \n",
       "34440       Allan Rayman  999       189213  \n",
       "34441          Jon Jason  999       194720  \n",
       "34442           Grizfolk  999       257194  \n",
       "34443                  0    0            0  \n",
       "\n",
       "[34444 rows x 5 columns]"
      ],
      "text/html": "<div>\n<style scoped>\n    .dataframe tbody tr th:only-of-type {\n        vertical-align: middle;\n    }\n\n    .dataframe tbody tr th {\n        vertical-align: top;\n    }\n\n    .dataframe thead th {\n        text-align: right;\n    }\n</style>\n<table border=\"1\" class=\"dataframe\">\n  <thead>\n    <tr style=\"text-align: right;\">\n      <th></th>\n      <th>trackId:ID(Track)</th>\n      <th>track_name</th>\n      <th>artist_name</th>\n      <th>pid</th>\n      <th>duration_ms</th>\n    </tr>\n  </thead>\n  <tbody>\n    <tr>\n      <th>0</th>\n      <td>0</td>\n      <td>Lose Control (feat. Ciara &amp; Fat Man Scoop)</td>\n      <td>Missy Elliott</td>\n      <td>0</td>\n      <td>226863</td>\n    </tr>\n    <tr>\n      <th>1</th>\n      <td>1</td>\n      <td>Toxic</td>\n      <td>Britney Spears</td>\n      <td>0</td>\n      <td>198800</td>\n    </tr>\n    <tr>\n      <th>2</th>\n      <td>2</td>\n      <td>Crazy In Love</td>\n      <td>Beyoncé</td>\n      <td>0</td>\n      <td>235933</td>\n    </tr>\n    <tr>\n      <th>3</th>\n      <td>3</td>\n      <td>Rock Your Body</td>\n      <td>Justin Timberlake</td>\n      <td>0</td>\n      <td>267266</td>\n    </tr>\n    <tr>\n      <th>4</th>\n      <td>4</td>\n      <td>It Wasn't Me</td>\n      <td>Shaggy</td>\n      <td>0</td>\n      <td>227600</td>\n    </tr>\n    <tr>\n      <th>...</th>\n      <td>...</td>\n      <td>...</td>\n      <td>...</td>\n      <td>...</td>\n      <td>...</td>\n    </tr>\n    <tr>\n      <th>34439</th>\n      <td>34439</td>\n      <td>The Answer</td>\n      <td>Big Words</td>\n      <td>999</td>\n      <td>263679</td>\n    </tr>\n    <tr>\n      <th>34440</th>\n      <td>34440</td>\n      <td>25.22</td>\n      <td>Allan Rayman</td>\n      <td>999</td>\n      <td>189213</td>\n    </tr>\n    <tr>\n      <th>34441</th>\n      <td>34441</td>\n      <td>Good Feeling</td>\n      <td>Jon Jason</td>\n      <td>999</td>\n      <td>194720</td>\n    </tr>\n    <tr>\n      <th>34442</th>\n      <td>34442</td>\n      <td>Cosmic Angel - Acoustic From Capitol Studios</td>\n      <td>Grizfolk</td>\n      <td>999</td>\n      <td>257194</td>\n    </tr>\n    <tr>\n      <th>34443</th>\n      <td>34443</td>\n      <td>0</td>\n      <td>0</td>\n      <td>0</td>\n      <td>0</td>\n    </tr>\n  </tbody>\n</table>\n<p>34444 rows × 5 columns</p>\n</div>"
     },
     "metadata": {},
     "execution_count": 489
    }
   ],
   "source": [
    "df_mor"
   ]
  },
  {
   "source": [
    "# **Requête de lecture**"
   ],
   "cell_type": "markdown",
   "metadata": {}
  },
  {
   "cell_type": "code",
   "execution_count": 453,
   "metadata": {},
   "outputs": [],
   "source": [
    "from neo4j import GraphDatabase\n",
    "\n",
    "uri = \"bolt://localhost:7687\"\n",
    "driver = GraphDatabase.driver(uri, auth=(\"neo4j\", \"esme\"))"
   ]
  },
  {
   "source": [
    "# **Afficher les titres des artistes**"
   ],
   "cell_type": "markdown",
   "metadata": {}
  },
  {
   "cell_type": "code",
   "execution_count": 454,
   "metadata": {},
   "outputs": [],
   "source": [
    "def get_actors(tx,name_artist):\n",
    "    query = \"\"\"MATCH (n:Track) where n.artist_name=$name_artist return n.track_name as Titre\"\"\"\n",
    "    result = tx.run(query,name_artist=name_artist)\n",
    "    return result.data()\n"
   ]
  },
  {
   "cell_type": "code",
   "execution_count": 455,
   "metadata": {},
   "outputs": [],
   "source": [
    "def get_tracks(name_a):\n",
    "    t=[]\n",
    "    with driver.session(database=\"spotify\") as session:\n",
    "        track = session.read_transaction(get_actors,name_a)\n",
    "        for a in track:\n",
    "            print(a)"
   ]
  },
  {
   "cell_type": "code",
   "execution_count": 456,
   "metadata": {},
   "outputs": [
    {
     "output_type": "stream",
     "name": "stdout",
     "text": [
      "{'Titre': 'La Tortura'}\n{'Titre': \"Hips Don't Lie\"}\n{'Titre': 'Ojos Así'}\n{'Titre': \"Can't Remember to Forget You\"}\n{'Titre': 'Waka Waka (This Time for Africa) (The Official 2010 FIFA World Cup (TM) Song)'}\n{'Titre': 'Me Enamoré'}\n{'Titre': 'Chantaje'}\n{'Titre': 'Perro Fiel'}\n{'Titre': 'Whenever, Wherever'}\n{'Titre': 'Loca'}\n{'Titre': 'Gordita'}\n{'Titre': 'Addicted to You'}\n{'Titre': \"Don't Bother\"}\n{'Titre': 'Rabiosa'}\n{'Titre': 'Gypsy'}\n{'Titre': 'No'}\n{'Titre': 'Dare (La La La)'}\n{'Titre': 'Try Everything - From \"Zootropolis\"'}\n{'Titre': 'Underneath Your Clothes'}\n{'Titre': 'Pienso en Ti'}\n{'Titre': 'Sombra de Ti'}\n{'Titre': 'Moscas en la Casa'}\n{'Titre': 'Antologia'}\n"
     ]
    }
   ],
   "source": [
    "#Veuillez modifider le nom de l'artiste souhaité\n",
    "get_tracks(\"Shakira\")"
   ]
  },
  {
   "source": [
    "# **Afficher le chemin**"
   ],
   "cell_type": "markdown",
   "metadata": {}
  },
  {
   "cell_type": "code",
   "execution_count": 487,
   "metadata": {},
   "outputs": [],
   "source": [
    "#Veuillez modifier les morceaux voulu\n",
    "with driver.session(database=\"spotify\") as session:\n",
    "        paths = session.run(\"\"\"MATCH (n:Track{track_name: \"Eye of the Tiger\"}), (m:Track{track_name: \"Somebody To Love\"})\n",
    "MATCH p=shortestPath((n)-[a:ENCHAINE*]->(m)) RETURN p\"\"\")\n",
    "        x=paths.data()\n",
    "        \n",
    "        \n",
    "        \n",
    "        \n",
    "    "
   ]
  },
  {
   "source": [
    "## **Playlist**"
   ],
   "cell_type": "markdown",
   "metadata": {}
  },
  {
   "cell_type": "code",
   "execution_count": 490,
   "metadata": {},
   "outputs": [],
   "source": [
    "def playlist():\n",
    "    s=0\n",
    "    for i in range(0,len(x[0][\"p\"])):\n",
    "        if (i % 2) == 0:\n",
    "            c=x[0][\"p\"][i][\"track_name\"]\n",
    "            print(c)\n",
    "            s+=int(x[0][\"p\"][i][\"duration_ms\"])\n",
    "        else: i+=1\n",
    "    s=s*1.667*10**(-5)\n",
    "    print(\"durée: {:.2f}\".format(s),\"min\")\n",
    "\n",
    "    \n",
    "\n"
   ]
  },
  {
   "cell_type": "code",
   "execution_count": 491,
   "metadata": {},
   "outputs": [
    {
     "output_type": "stream",
     "name": "stdout",
     "text": [
      "Eye of the Tiger\nParty In The U.S.A.\nHey Ya! - Radio Mix / Club Mix\nBaby\nSomebody To Love\ndurée: 18.60 min\n"
     ]
    }
   ],
   "source": [
    "playlist()"
   ]
  },
  {
   "cell_type": "code",
   "execution_count": null,
   "metadata": {},
   "outputs": [],
   "source": []
  }
 ]
}